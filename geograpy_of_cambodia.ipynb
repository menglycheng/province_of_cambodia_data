{
 "cells": [
  {
   "cell_type": "code",
   "execution_count": 1,
   "id": "e5db45e1",
   "metadata": {},
   "outputs": [],
   "source": [
    "from bs4 import BeautifulSoup as bs \n",
    "import requests"
   ]
  },
  {
   "cell_type": "code",
   "execution_count": 2,
   "id": "69564884",
   "metadata": {},
   "outputs": [],
   "source": [
    "r = requests.get('https://en.wikipedia.org/wiki/Provinces_of_Cambodia')\n",
    "soup = bs(r.content)"
   ]
  },
  {
   "cell_type": "code",
   "execution_count": 3,
   "id": "f15a8b12",
   "metadata": {},
   "outputs": [],
   "source": [
    "table = soup.select('.sortable tr')"
   ]
  },
  {
   "cell_type": "code",
   "execution_count": 4,
   "id": "baf3d9e4",
   "metadata": {
    "scrolled": true
   },
   "outputs": [],
   "source": [
    "from bs4 import Tag\n",
    "provinces = []\n",
    "\n",
    "title = ['Province_EN', 'Province_KH', 'Capital', 'Population(2019)','Area','Density','ISO']\n",
    "for i in table[1:-1]:\n",
    "    row = i.select('tr td')\n",
    "    province=[]\n",
    "    districts = []\n",
    "    dist_district = {}\n",
    "    for tag in row:\n",
    "        for j in tag:\n",
    "            \n",
    "#           ==== Checking tag in data ====\n",
    "\n",
    "            if j.nextSibling == None:\n",
    "                province.append(j)\n",
    "            else:\n",
    "                for a in j:\n",
    "                    if type(a) == Tag:\n",
    "                        province.append(a.get_text())\n",
    "                    else:\n",
    "                        province.append(a)\n",
    "                        \n",
    "#   ==== getting link of province ====\n",
    "\n",
    "    link = 'https://en.m.wikipedia.org/wiki/'+province[0].replace(' ','_') + '_province'\n",
    "    req = requests.get(link)\n",
    "    dis_soup = bs(req.content)\n",
    "    dis_table = dis_soup.select('.wikitable tbody tr')\n",
    "    \n",
    "    title_district = ['ISO_Code','District_Name_EN','District_Name_KH','Population(2019)']\n",
    "    \n",
    "    \n",
    "#   ==== Cleaning data ====    \n",
    "\n",
    "    for dis in dis_table[1:-1]:\n",
    "        district = []\n",
    "        new_district = {}\n",
    "        for j in dis.select('td'):\n",
    "            district.append(j.get_text())\n",
    "        for index,clean_n in enumerate(district):\n",
    "            district[index] = clean_n.replace('\\n','')\n",
    "            \n",
    "    \n",
    "#   ==== adding title to data using dist ====\n",
    "\n",
    "        for key_dist,data_dist in zip(title_district,district):\n",
    "            new_district[key_dist] = data_dist\n",
    "#         print(new_district)\n",
    "        districts.append(new_district)\n",
    "    \n",
    "       \n",
    "    \n",
    "    \n",
    "#   ==== insert all data to provinces list ====     \n",
    "        \n",
    "#   ==== remove '\\n' item from list ==== \n",
    "\n",
    "    for clean in province:\n",
    "        if clean == '\\n':\n",
    "            province.remove(clean)\n",
    "\n",
    "#   ==== replace '\\n' in text ====\n",
    "\n",
    "    for index,text_replace in enumerate(province):\n",
    "        province[index] = text_replace.replace('\\n','').replace(' Municipality','')\n",
    "        \n",
    "#   ==== adding title to data using dist ====\n",
    "    new_province_list = {}\n",
    "    for key, data in zip(title,province):\n",
    "        new_province_list[key]=data\n",
    "#     print(new_province_list)\n",
    "    new_province_list['District'] = districts\n",
    "    provinces.append(new_province_list)\n",
    "#     print(dist_district)\n",
    "# print(provinces)"
   ]
  },
  {
   "cell_type": "code",
   "execution_count": null,
   "id": "d7638a9a",
   "metadata": {},
   "outputs": [],
   "source": []
  },
  {
   "cell_type": "code",
   "execution_count": 392,
   "id": "8223841e",
   "metadata": {},
   "outputs": [],
   "source": [
    "import json "
   ]
  },
  {
   "cell_type": "code",
   "execution_count": 393,
   "id": "be771d23",
   "metadata": {},
   "outputs": [],
   "source": [
    "with open('cambodia.json','w',encoding='utf-8') as f:\n",
    "    json.dump(provinces, f, ensure_ascii=False, indent=2)"
   ]
  },
  {
   "cell_type": "code",
   "execution_count": null,
   "id": "33d02a48",
   "metadata": {},
   "outputs": [],
   "source": []
  }
 ],
 "metadata": {
  "kernelspec": {
   "display_name": "Python 3",
   "language": "python",
   "name": "python3"
  },
  "language_info": {
   "codemirror_mode": {
    "name": "ipython",
    "version": 3
   },
   "file_extension": ".py",
   "mimetype": "text/x-python",
   "name": "python",
   "nbconvert_exporter": "python",
   "pygments_lexer": "ipython3",
   "version": "3.8.8"
  }
 },
 "nbformat": 4,
 "nbformat_minor": 5
}
